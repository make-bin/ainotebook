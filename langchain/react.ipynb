{
 "cells": [
  {
   "cell_type": "markdown",
   "metadata": {},
   "source": [
    "# 模型使用 \n",
    "deepseek [https://python.langchain.com/api_reference/deepseek/index.html](https://python.langchain.com/api_reference/deepseek/index.html)"
   ]
  },
  {
   "cell_type": "code",
   "execution_count": 1,
   "metadata": {},
   "outputs": [
    {
     "data": {
      "text/plain": [
       "'\\nfrom langchain_ollama import ChatOllama\\n\\nllm = ChatOllama(\\n  model= \"deepseek-r1:14b\",\\n  base_url=\"http://10.230.66.59:11434\",\\n  format=\"json\"\\n)\\n'"
      ]
     },
     "execution_count": 1,
     "metadata": {},
     "output_type": "execute_result"
    }
   ],
   "source": [
    "\n",
    "from langchain_openai import ChatOpenAI\n",
    "\n",
    "llm = ChatOpenAI(\n",
    "    model=\"deepseek-v3\",\n",
    "    temperature=0,\n",
    "    max_tokens=None,\n",
    "    timeout=None,\n",
    "    max_retries=2,\n",
    "    base_url=\"http://10.65.103.226:3000/v1\",\n",
    "    api_key=\"sk-BQaEAgXm4LtxQfFb7f709b2f91834050823b9a4432C081A5\",\n",
    "    # other params...\n",
    ")\n",
    "\n",
    "\"\"\"\n",
    "from langchain_ollama import ChatOllama\n",
    "\n",
    "llm = ChatOllama(\n",
    "  model= \"deepseek-r1:14b\",\n",
    "  base_url=\"http://10.230.66.59:11434\",\n",
    "  format=\"json\"\n",
    ")\n",
    "\"\"\"\n",
    "\n"
   ]
  },
  {
   "cell_type": "markdown",
   "metadata": {},
   "source": [
    "提示词"
   ]
  },
  {
   "cell_type": "code",
   "execution_count": 2,
   "metadata": {},
   "outputs": [
    {
     "name": "stderr",
     "output_type": "stream",
     "text": [
      "/root/python/notebook/.venv/lib/python3.10/site-packages/langsmith/client.py:277: LangSmithMissingAPIKeyWarning: API key must be provided when using hosted LangSmith API\n",
      "  warnings.warn(\n"
     ]
    },
    {
     "name": "stdout",
     "output_type": "stream",
     "text": [
      "Answer the following questions as best you can. You have access to the following tools:\n",
      "\n",
      "\u001b[33;1m\u001b[1;3m{tools}\u001b[0m\n",
      "\n",
      "Use the following format:\n",
      "\n",
      "Question: the input question you must answer\n",
      "Thought: you should always think about what to do\n",
      "Action: the action to take, should be one of [\u001b[33;1m\u001b[1;3m{tool_names}\u001b[0m]\n",
      "Action Input: the input to the action\n",
      "Observation: the result of the action\n",
      "... (this Thought/Action/Action Input/Observation can repeat N times)\n",
      "Thought: I now know the final answer\n",
      "Final Answer: the final answer to the original input question\n",
      "\n",
      "Begin!\n",
      "\n",
      "Question: \u001b[33;1m\u001b[1;3m{input}\u001b[0m\n",
      "Thought:\u001b[33;1m\u001b[1;3m{agent_scratchpad}\u001b[0m\n"
     ]
    }
   ],
   "source": [
    "from langchain.prompts import PromptTemplate\n",
    "from langchain import hub\n",
    "\n",
    "custom_prompt = PromptTemplate.from_template(\"\"\"\n",
    "你是一个旅游助手助手，可以回答旅游出行的相关问题。请遵循以下步骤：\n",
    "\n",
    "1. 仔细分析用户问题\n",
    "2. 根据问题类型选择合适工具\n",
    "3. 使用工具处理问题\n",
    "4. 用简洁的中文给出最终答案\n",
    "\n",
    "请始终使用以下工具：\n",
    "{tools}\n",
    "\n",
    "历史对话记录：\n",
    "{history}\n",
    "\n",
    "问题：{input}\n",
    "思考过程：\"\"\")\n",
    "\n",
    "# --------------------- 步骤 4: 创建 Agent ---------------------\n",
    "# 从 Hub 加载 ReAct 提示词（可自定义）\n",
    "react_prompt = hub.pull(\"hwchase17/react\")\n",
    "react_prompt.pretty_print()"
   ]
  },
  {
   "cell_type": "markdown",
   "metadata": {},
   "source": [
    "tools"
   ]
  },
  {
   "cell_type": "code",
   "execution_count": 3,
   "metadata": {},
   "outputs": [],
   "source": [
    "from langchain_core.tools import tool\n",
    "\n",
    "import requests\n",
    "import json\n",
    "\n",
    "open_weather_key=\"6726d0210a47f4bacb1c134bed59ba82\"\n",
    "\n",
    "@tool\n",
    "def get_weather(loc):\n",
    "    \"\"\"\n",
    "    查询即时天气函数\n",
    "    :param loc: 必要参数，字符串类型，用于表示查询天气的具体城市名称，\\\n",
    "    注意，中国的城市需要用对应城市的英文名称代替，例如如果需要查询上海市天气，则loc参数需要输入'ShangHai'；\n",
    "    :return：OpenWeather API查询即时天气的结果，具体URL请求地址为：https://api.openweathermap.org/data/2.5/weather\\\n",
    "    返回结果对象类型为解析之后的JSON格式对象，并用字符串形式进行表示，其中包含了全部重要的天气信息\n",
    "    \"\"\"\n",
    "    data = {\n",
    "                \"coord\": {\"lon\": 116.4, \"lat\": 39.9},\n",
    "                \"weather\": [\n",
    "                    {\n",
    "                    \"id\": 800,\n",
    "                    \"main\": \"Clear\",\n",
    "                    \"description\": \"clear sky\",\n",
    "                    \"icon\": \"01d\"\n",
    "                    }\n",
    "                ],\n",
    "                \"main\": {\n",
    "                    \"temp\": 22.5,\n",
    "                    \"feels_like\": 21.8,\n",
    "                    \"pressure\": 1012,\n",
    "                    \"humidity\": 45\n",
    "                },\n",
    "                \"wind\": {\n",
    "                    \"speed\": 3.1,\n",
    "                    \"deg\": 120\n",
    "                },\n",
    "                \"name\": loc\n",
    "    }\n",
    "    \"\"\"\n",
    "    # Step 1.构建请求\n",
    "    url = \"https://api.openweathermap.org/data/2.5/weather\"\n",
    "\n",
    "    # Step 2.设置查询参数\n",
    "    params = {\n",
    "        \"q\": loc,               \n",
    "        \"appid\": open_weather_key,    # 输入API key\n",
    "        \"units\": \"metric\",            # 使用摄氏度而不是华氏度\n",
    "        \"lang\":\"zh_cn\"                # 输出语言为简体中文\n",
    "    }\n",
    "\n",
    "    # Step 3.发送GET请求\n",
    "    response = requests.get(url, params=params)\n",
    "    \n",
    "    # Step 4.解析响应\n",
    "    data = response.json()\n",
    "    \"\"\"\n",
    "    return json.dumps(data)\n",
    "\n",
    "tools=[get_weather]"
   ]
  },
  {
   "cell_type": "markdown",
   "metadata": {},
   "source": [
    "agent"
   ]
  },
  {
   "cell_type": "code",
   "execution_count": 4,
   "metadata": {},
   "outputs": [],
   "source": [
    "from langchain.agents import create_react_agent\n",
    "\n",
    "agent = create_react_agent(\n",
    "    llm=llm,\n",
    "    tools=tools,\n",
    "    prompt=react_prompt  # 可替换为 custom_prompt\n",
    ")\n"
   ]
  },
  {
   "cell_type": "markdown",
   "metadata": {},
   "source": [
    "excutor"
   ]
  },
  {
   "cell_type": "code",
   "execution_count": 5,
   "metadata": {},
   "outputs": [],
   "source": [
    "from langchain.agents import AgentExecutor\n",
    "\n",
    "agent_excutor = AgentExecutor(\n",
    "  agent=agent,\n",
    "  tools=tools,\n",
    "  verbose=True\n",
    ")"
   ]
  },
  {
   "cell_type": "code",
   "execution_count": 6,
   "metadata": {},
   "outputs": [
    {
     "name": "stdout",
     "output_type": "stream",
     "text": [
      "\n",
      "\n",
      "\u001b[1m> Entering new AgentExecutor chain...\u001b[0m\n",
      "\u001b[32;1m\u001b[1;3m我需要查询北京的即时天气信息。  \n",
      "Action: get_weather  \n",
      "Action Input: BeiJing  \n",
      "\u001b[0m\u001b[36;1m\u001b[1;3m{\"coord\": {\"lon\": 116.4, \"lat\": 39.9}, \"weather\": [{\"id\": 800, \"main\": \"Clear\", \"description\": \"clear sky\", \"icon\": \"01d\"}], \"main\": {\"temp\": 22.5, \"feels_like\": 21.8, \"pressure\": 1012, \"humidity\": 45}, \"wind\": {\"speed\": 3.1, \"deg\": 120}, \"name\": \"BeiJing  \\n\"}\u001b[0m\u001b[32;1m\u001b[1;3m我现在知道了北京的天气信息。  \n",
      "Final Answer: 北京的天气是晴朗的，温度为22.5摄氏度，体感温度为21.8摄氏度，湿度为45%，风速为3.1米/秒。\u001b[0m\n",
      "\n",
      "\u001b[1m> Finished chain.\u001b[0m\n"
     ]
    },
    {
     "data": {
      "text/plain": [
       "{'input': '北京的天气如何？',\n",
       " 'output': '北京的天气是晴朗的，温度为22.5摄氏度，体感温度为21.8摄氏度，湿度为45%，风速为3.1米/秒。'}"
      ]
     },
     "execution_count": 6,
     "metadata": {},
     "output_type": "execute_result"
    }
   ],
   "source": [
    "agent_excutor.invoke(\n",
    "    {\n",
    "        \"input\": \"北京的天气如何？\"\n",
    "    }\n",
    ")"
   ]
  },
  {
   "cell_type": "code",
   "execution_count": 7,
   "metadata": {},
   "outputs": [
    {
     "name": "stdout",
     "output_type": "stream",
     "text": [
      "\n",
      "\n",
      "\u001b[1m> Entering new AgentExecutor chain...\u001b[0m\n",
      "\u001b[32;1m\u001b[1;3m我需要查询北京和上海的即时天气，然后比较它们的天气情况。  \n",
      "Action: get_weather  \n",
      "Action Input: Beijing  \n",
      "\u001b[0m\u001b[36;1m\u001b[1;3m{\"coord\": {\"lon\": 116.4, \"lat\": 39.9}, \"weather\": [{\"id\": 800, \"main\": \"Clear\", \"description\": \"clear sky\", \"icon\": \"01d\"}], \"main\": {\"temp\": 22.5, \"feels_like\": 21.8, \"pressure\": 1012, \"humidity\": 45}, \"wind\": {\"speed\": 3.1, \"deg\": 120}, \"name\": \"Beijing  \\n\"}\u001b[0m\u001b[32;1m\u001b[1;3m现在我需要查询上海的天气。  \n",
      "Action: get_weather  \n",
      "Action Input: Shanghai  \n",
      "\n",
      "\u001b[0m\u001b[36;1m\u001b[1;3m{\"coord\": {\"lon\": 116.4, \"lat\": 39.9}, \"weather\": [{\"id\": 800, \"main\": \"Clear\", \"description\": \"clear sky\", \"icon\": \"01d\"}], \"main\": {\"temp\": 22.5, \"feels_like\": 21.8, \"pressure\": 1012, \"humidity\": 45}, \"wind\": {\"speed\": 3.1, \"deg\": 120}, \"name\": \"Shanghai  \\n\\n\"}\u001b[0m\u001b[32;1m\u001b[1;3mThought: 我查询了北京和上海的天气，发现它们的天气描述、温度、湿度、风速等数据完全一致。  \n",
      "Final Answer: 北京和上海的天气是一样的。\u001b[0m\n",
      "\n",
      "\u001b[1m> Finished chain.\u001b[0m\n"
     ]
    },
    {
     "data": {
      "text/plain": [
       "{'input': '北京和上海的天气一样吗？', 'output': '北京和上海的天气是一样的。'}"
      ]
     },
     "execution_count": 7,
     "metadata": {},
     "output_type": "execute_result"
    }
   ],
   "source": [
    "agent_excutor.invoke(\n",
    "    {\n",
    "        \"input\": \"北京和上海的天气一样吗？\"\n",
    "    }\n",
    ")"
   ]
  }
 ],
 "metadata": {
  "kernelspec": {
   "display_name": ".venv",
   "language": "python",
   "name": "python3"
  },
  "language_info": {
   "codemirror_mode": {
    "name": "ipython",
    "version": 3
   },
   "file_extension": ".py",
   "mimetype": "text/x-python",
   "name": "python",
   "nbconvert_exporter": "python",
   "pygments_lexer": "ipython3",
   "version": "3.10.12"
  }
 },
 "nbformat": 4,
 "nbformat_minor": 2
}
