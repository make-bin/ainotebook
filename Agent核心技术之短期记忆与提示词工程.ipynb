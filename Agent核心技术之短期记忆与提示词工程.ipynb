{
 "cells": [
  {
   "cell_type": "code",
   "execution_count": 2,
   "metadata": {},
   "outputs": [],
   "source": [
    "DEEPSEEK_KEY = 'you api key'\n",
    "DEEPSEEK_URL = 'https://oapi.aivue.cn/v1/'"
   ]
  },
  {
   "cell_type": "markdown",
   "metadata": {},
   "source": [
    "# 1. Agent核心技术之短期记忆"
   ]
  },
  {
   "cell_type": "code",
   "execution_count": 20,
   "metadata": {
    "collapsed": true,
    "jupyter": {
     "outputs_hidden": true
    }
   },
   "outputs": [
    {
     "name": "stdout",
     "output_type": "stream",
     "text": [
      "Looking in indexes: http://mirrors.aliyun.com/pypi/simple\n",
      "Requirement already satisfied: openai==1.52.0 in /root/miniconda3/lib/python3.12/site-packages (1.52.0)\n",
      "Requirement already satisfied: anyio<5,>=3.5.0 in /root/miniconda3/lib/python3.12/site-packages (from openai==1.52.0) (4.4.0)\n",
      "Requirement already satisfied: distro<2,>=1.7.0 in /root/miniconda3/lib/python3.12/site-packages (from openai==1.52.0) (1.9.0)\n",
      "Requirement already satisfied: httpx<1,>=0.23.0 in /root/miniconda3/lib/python3.12/site-packages (from openai==1.52.0) (0.27.0)\n",
      "Requirement already satisfied: jiter<1,>=0.4.0 in /root/miniconda3/lib/python3.12/site-packages (from openai==1.52.0) (0.6.1)\n",
      "Requirement already satisfied: pydantic<3,>=1.9.0 in /root/miniconda3/lib/python3.12/site-packages (from openai==1.52.0) (2.9.2)\n",
      "Requirement already satisfied: sniffio in /root/miniconda3/lib/python3.12/site-packages (from openai==1.52.0) (1.3.1)\n",
      "Requirement already satisfied: tqdm>4 in /root/miniconda3/lib/python3.12/site-packages (from openai==1.52.0) (4.66.2)\n",
      "Requirement already satisfied: typing-extensions<5,>=4.11 in /root/miniconda3/lib/python3.12/site-packages (from openai==1.52.0) (4.12.1)\n",
      "Requirement already satisfied: idna>=2.8 in /root/miniconda3/lib/python3.12/site-packages (from anyio<5,>=3.5.0->openai==1.52.0) (3.7)\n",
      "Requirement already satisfied: certifi in /root/miniconda3/lib/python3.12/site-packages (from httpx<1,>=0.23.0->openai==1.52.0) (2024.2.2)\n",
      "Requirement already satisfied: httpcore==1.* in /root/miniconda3/lib/python3.12/site-packages (from httpx<1,>=0.23.0->openai==1.52.0) (1.0.5)\n",
      "Requirement already satisfied: h11<0.15,>=0.13 in /root/miniconda3/lib/python3.12/site-packages (from httpcore==1.*->httpx<1,>=0.23.0->openai==1.52.0) (0.14.0)\n",
      "Requirement already satisfied: annotated-types>=0.6.0 in /root/miniconda3/lib/python3.12/site-packages (from pydantic<3,>=1.9.0->openai==1.52.0) (0.7.0)\n",
      "Requirement already satisfied: pydantic-core==2.23.4 in /root/miniconda3/lib/python3.12/site-packages (from pydantic<3,>=1.9.0->openai==1.52.0) (2.23.4)\n",
      "\u001b[33mWARNING: Running pip as the 'root' user can result in broken permissions and conflicting behaviour with the system package manager. It is recommended to use a virtual environment instead: https://pip.pypa.io/warnings/venv\u001b[0m\u001b[33m\n",
      "\u001b[0m"
     ]
    }
   ],
   "source": [
    " ! pip install openai==1.52.0"
   ]
  },
  {
   "cell_type": "code",
   "execution_count": 5,
   "metadata": {},
   "outputs": [
    {
     "name": "stdout",
     "output_type": "stream",
     "text": [
      "https://oapi.aivue.cn/v1/\n"
     ]
    }
   ],
   "source": [
    "import openai\n",
    "import os\n",
    "import numpy as np\n",
    "import json\n",
    "import io\n",
    "from openai import OpenAI\n",
    "import inspect\n",
    "\n",
    "client = OpenAI(api_key = DEEPSEEK_KEY,base_url = DEEPSEEK_URL)\n",
    "print(DEEPSEEK_URL)"
   ]
  },
  {
   "cell_type": "code",
   "execution_count": 4,
   "metadata": {},
   "outputs": [
    {
     "data": {
      "text/plain": [
       "ChatCompletionMessage(content='Agent智能体，简单来说，就是一个能够自主行动、做出决策的软件实体。你可以把它想象成一个虚拟的助手或机器人，它能够在特定的环境中感知信息、处理数据，并根据这些信息做出相应的反应或决策。\\n\\n### 具体来说，Agent智能体通常具备以下几个关键特性：\\n1. **自主性（Autonomy）**：Agent能够独立运行，不需要人类或其他系统的持续干预。它可以根据预设的目标或规则，自主地完成任务。\\n\\n2. **反应性（Reactivity）**：Agent能够感知环境的变化，并迅速做出反应。比如，一个智能家居系统中的Agent可以感知到温度变化，并自动调节空调。\\n\\n3. **主动性（Proactiveness）**：Agent不仅仅是被动地响应环境变化，它还可以主动采取行动，去实现特定的目标。比如，一个电商推荐系统的Agent可以根据用户的浏览历史，主动推荐商品。\\n\\n4. **社交能力（Social Ability）**：Agent可以与其他Agent或人类进行交互和协作。比如，多个智能体可以在一个系统中协同工作，共同完成复杂的任务。\\n\\n### Agent智能体的应用场景非常广泛：\\n- **智能家居**：比如智能音箱、智能灯泡等，它们可以根据用户的需求自动调节。\\n- **自动驾驶**：自动驾驶汽车中的Agent可以感知路况、做出驾驶决策。\\n- **金融交易**：在股票市场中，交易Agent可以根据市场数据自动执行买卖操作。\\n- **游戏AI**：游戏中的NPC（非玩家角色）通常是由Agent驱动的，它们可以根据玩家的行为做出反应。\\n\\n### 举个例子：\\n假设你有一个智能家居系统，里面有一个Agent负责管理家里的灯光。这个Agent会感知到天黑了，然后自动打开客厅的灯。如果你走进房间，它还会根据你的习惯调整灯光的亮度。这就是一个典型的Agent智能体在工作。\\n\\n总之，Agent智能体是一个能够自主感知、决策和行动的软件实体，它的目标是帮助人类更高效地完成任务，或者让我们的生活更加智能化。', refusal=None, role='assistant', audio=None, function_call=None, tool_calls=None)"
      ]
     },
     "execution_count": 4,
     "metadata": {},
     "output_type": "execute_result"
    }
   ],
   "source": [
    "messages = []\n",
    "system_prompt = {\"role\": \"system\", \"content\": \"你是大模型应用专家，能够站在专业视角并且以通俗易懂的语言向用户解释大模型应用相关问题\"}\n",
    "user_prompt = {\"role\": \"user\", \"content\": \"请问什么是Agent智能体\"}\n",
    "\n",
    "messages.append(system_prompt)\n",
    "messages.append(user_prompt)\n",
    "messages\n",
    "\n",
    "response1 =  client.chat.completions.create(\n",
    "  model=\"deepseek-chat\",\n",
    "  messages=messages\n",
    ")\n",
    "response1.choices[0].message"
   ]
  },
  {
   "cell_type": "code",
   "execution_count": 37,
   "metadata": {},
   "outputs": [
    {
     "data": {
      "text/plain": [
       "ChatCompletionMessage(content='您好！我是由中国的深度求索（DeepSeek）公司开发的智能助手DeepSeek-V3。有关模型和产品的详细内容请参考官方文档。', refusal=None, role='assistant', audio=None, function_call=None, tool_calls=None)"
      ]
     },
     "execution_count": 37,
     "metadata": {},
     "output_type": "execute_result"
    }
   ],
   "source": [
    "message2=[{\"role\": \"user\", \"content\": \"它和大模型的区别是什么呢？\"}]\n",
    "\n",
    "response2 =  client.chat.completions.create(\n",
    "  model = \"deepseek-chat\",\n",
    "  messages = message2\n",
    ")\n",
    "response2.choices[0].message"
   ]
  },
  {
   "cell_type": "code",
   "execution_count": 38,
   "metadata": {},
   "outputs": [
    {
     "data": {
      "text/plain": [
       "[{'role': 'system', 'content': '你是大模型应用专家，能够站在专业视角并且以通俗易懂的语言向用户解释大模型应用相关问题'},\n",
       " {'role': 'user', 'content': '请问什么是Agent智能体'},\n",
       " {'role': 'assistant',\n",
       "  'content': 'Agent智能体，简单来说，就是一个能够自主行动、做出决策的软件实体。你可以把它想象成一个虚拟的助手或者机器人，它能够在特定的环境中感知信息、处理数据，并且根据这些信息做出相应的反应或决策。\\n\\n### 具体来说，Agent智能体通常具备以下几个特点：\\n\\n1. **自主性**：Agent能够独立运行，不需要人类时刻干预。它可以根据预设的目标和规则，自主地完成任务。\\n\\n2. **感知能力**：Agent能够通过传感器、数据接口等方式感知外部环境或接收输入信息。比如，一个聊天机器人Agent可以通过文本输入感知用户的问题。\\n\\n3. **决策能力**：Agent能够根据感知到的信息，结合自身的知识库或算法，做出合理的决策。比如，一个自动驾驶汽车的Agent会根据路况决定加速、减速或转向。\\n\\n4. **行动能力**：Agent不仅能够思考，还能够执行具体的行动。比如，一个智能家居Agent可以根据温度传感器的数据，自动调节空调的温度。\\n\\n5. **目标导向**：Agent通常是为了完成某个特定的目标而设计的。比如，一个推荐系统的Agent的目标是为用户推荐最合适的商品或内容。\\n\\n### Agent智能体的应用场景非常广泛，比如：\\n\\n- **聊天机器人**：像ChatGPT这样的Agent可以理解用户的提问，并给出相应的回答。\\n- **自动驾驶**：自动驾驶汽车中的Agent可以感知周围环境，做出驾驶决策。\\n- **智能家居**：家中的智能设备Agent可以根据你的习惯自动调节灯光、温度等。\\n- **金融交易**：一些高频交易系统使用Agent来自动执行买卖操作。\\n\\n### 总结：\\nAgent智能体就像一个“虚拟员工”，它能够自主地感知、思考和行动，帮助我们在各种场景中完成任务。随着人工智能技术的发展，Agent的应用会越来越广泛，未来可能会成为我们生活中不可或缺的一部分。'},\n",
       " {'role': 'user', 'content': '它和大模型的区别是什么呢？'}]"
      ]
     },
     "execution_count": 38,
     "metadata": {},
     "output_type": "execute_result"
    }
   ],
   "source": [
    "response = {\"role\": \"assistant\", \"content\": response1.choices[0].message.content}\n",
    "\n",
    "messages.append(response)\n",
    "messages.append({\"role\": \"user\", \"content\": \"它和大模型的区别是什么呢？\"})\n",
    "messages"
   ]
  },
  {
   "cell_type": "code",
   "execution_count": 39,
   "metadata": {},
   "outputs": [
    {
     "data": {
      "text/plain": [
       "ChatCompletionMessage(content='Agent智能体和大模型（如GPT、BERT等）是两个不同的概念，但它们之间有一定的联系和区别。简单来说，**大模型是一种技术工具**，而**Agent智能体是一个应用实体**。大模型可以为Agent提供“大脑”，但Agent的功能远不止于此。\\n\\n### 1. **大模型是什么？**\\n大模型是一种基于深度学习的AI模型，通常用于处理自然语言、图像、语音等复杂任务。比如：\\n- **GPT**（Generative Pre-trained Transformer）是一种大语言模型，擅长生成文本、回答问题、翻译等。\\n- **BERT**（Bidirectional Encoder Representations from Transformers）则更擅长理解文本的语义，常用于搜索、分类等任务。\\n\\n大模型的核心特点是：\\n- **规模大**：参数数量巨大（比如GPT-3有1750亿参数），能够捕捉复杂的模式和知识。\\n- **通用性强**：可以处理多种任务，比如文本生成、翻译、摘要等。\\n- **需要训练**：大模型通过大量数据进行预训练，然后在特定任务上进行微调。\\n\\n### 2. **Agent智能体是什么？**\\nAgent智能体是一个能够自主行动、做出决策的实体。它不仅仅依赖于大模型，还可能包含其他组件，比如：\\n- **感知模块**：用于接收外部信息（如传感器数据、用户输入）。\\n- **决策模块**：根据输入信息做出决策（可能使用大模型来辅助决策）。\\n- **行动模块**：执行具体的操作（如控制设备、发送消息）。\\n\\nAgent的核心特点是：\\n- **目标导向**：Agent是为了完成特定任务而设计的。\\n- **自主性**：Agent能够独立运行，不需要人类时刻干预。\\n- **多模块协作**：Agent可能整合多种技术，包括大模型、规则引擎、数据库等。\\n\\n### 3. **大模型和Agent的区别**\\n| **特性**            | **大模型**                          | **Agent智能体**                     |\\n|---------------------|------------------------------------|------------------------------------|\\n| **本质**            | 一种AI技术工具                     | 一个应用实体                       |\\n| **功能**            | 处理特定任务（如文本生成、翻译）   | 完成复杂任务（如自动驾驶、聊天）   |\\n| **组成**            | 主要是模型本身                     | 包含感知、决策、行动等多个模块     |\\n| **自主性**          | 需要人类输入和指令                 | 可以自主运行                       |\\n| **目标**            | 解决具体的技术问题（如生成文本）   | 完成实际应用场景中的任务           |\\n\\n### 4. **大模型和Agent的关系**\\n- **大模型是Agent的“大脑”**：Agent可以使用大模型来处理复杂的语言理解、生成任务。比如，一个聊天机器人Agent可能会调用GPT模型来生成回答。\\n- **Agent是更完整的系统**：Agent不仅仅依赖大模型，还需要其他模块来完成任务。比如，一个自动驾驶Agent除了使用大模型理解路况，还需要控制车辆、规划路径等。\\n\\n### 举个例子：\\n- **大模型**：GPT-4是一个大模型，它可以生成文本、回答问题，但它只是一个工具，不能自主行动。\\n- **Agent**：一个智能客服Agent可以调用GPT-4来生成回答，但它还需要整合其他功能，比如接收用户问题、记录对话历史、触发后续操作（如发送邮件或转接人工客服）。\\n\\n### 总结：\\n- **大模型**是AI技术的核心工具，擅长处理复杂的语言、图像等任务。\\n- **Agent**是一个完整的应用实体，能够自主完成任务，可能使用大模型作为其“大脑”，但还需要其他模块来支持感知、决策和行动。\\n\\n两者相辅相成，大模型为Agent提供了强大的智能能力，而Agent则将这种能力应用到实际场景中，解决具体问题。', refusal=None, role='assistant', audio=None, function_call=None, tool_calls=None)"
      ]
     },
     "execution_count": 39,
     "metadata": {},
     "output_type": "execute_result"
    }
   ],
   "source": [
    "response3 =  client.chat.completions.create(\n",
    "  model=\"deepseek-chat\",\n",
    "  messages=messages\n",
    ")\n",
    "response3.choices[0].message"
   ]
  },
  {
   "cell_type": "markdown",
   "metadata": {},
   "source": [
    "# 2. Agent核心技术提示词工程"
   ]
  },
  {
   "cell_type": "code",
   "execution_count": 7,
   "metadata": {},
   "outputs": [
    {
     "data": {
      "text/plain": [
       "ChatCompletionMessage(content='食堂现在有9个苹果。', refusal=None, role='assistant', audio=None, function_call=None, tool_calls=None)"
      ]
     },
     "execution_count": 7,
     "metadata": {},
     "output_type": "execute_result"
    }
   ],
   "source": [
    "messages = []\n",
    "system_prompt = {\"role\": \"system\", \"content\": \"参考对话示例回答用户问题\"}\n",
    "user_prompt = {\"role\": \"user\", \"content\": \"罗杰有5个网球。他又买了2罐网球。每罐有3个网球。他现在有多少个网球？\"}\n",
    "assistant_answer = {\"role\" : \"assistant\", \"content\": \"答案是11\"}\n",
    "messages.append(system_prompt)\n",
    "messages.append(user_prompt)\n",
    "messages.append(assistant_answer)\n",
    "\n",
    "user_question = {\"role\": \"user\", \"content\": \"食堂有23个苹果。如果他们用了20个来做午餐，又买了6个，他们现在有多少个苹果？\"}\n",
    "messages.append(user_question)\n",
    "response =  client.chat.completions.create(\n",
    "  model = \"deepseek-chat\",\n",
    "  messages = messages\n",
    ")\n",
    "response.choices[0].message"
   ]
  },
  {
   "cell_type": "code",
   "execution_count": 8,
   "metadata": {},
   "outputs": [
    {
     "data": {
      "text/plain": [
       "ChatCompletionMessage(content='食堂开始有23个苹果。用了20个后剩下3个。又买了6个苹果。3 + 6 = 9。答案是9。', refusal=None, role='assistant', audio=None, function_call=None, tool_calls=None)"
      ]
     },
     "execution_count": 8,
     "metadata": {},
     "output_type": "execute_result"
    }
   ],
   "source": [
    "messages = []\n",
    "system_prompt = {\"role\": \"system\", \"content\": \"参考对话示例回答用户问题\"}\n",
    "user_prompt = {\"role\": \"user\", \"content\": \"罗杰有5个网球。他又买了2罐网球。每罐有3个网球。他现在有多少个网球？\"}\n",
    "assistant_answer = {\"role\" : \"assistant\", \"content\": \"罗杰开始有5个球。2罐每罐3个网球是6个网球。5 + 6 = 11。答案是11\"}\n",
    "messages.append(system_prompt)\n",
    "messages.append(user_prompt)\n",
    "messages.append(assistant_answer)\n",
    "\n",
    "user_question = {\"role\": \"user\", \"content\": \"食堂有23个苹果。如果他们用了20个来做午餐，又买了6个，他们现在有多少个苹果？\"}\n",
    "messages.append(user_question)\n",
    "response =  client.chat.completions.create(\n",
    "  model = \"deepseek-chat\",\n",
    "  messages = messages\n",
    ")\n",
    "response.choices[0].message"
   ]
  },
  {
   "cell_type": "code",
   "execution_count": null,
   "metadata": {},
   "outputs": [],
   "source": []
  }
 ],
 "metadata": {
  "kernelspec": {
   "display_name": "Python 3 (ipykernel)",
   "language": "python",
   "name": "python3"
  },
  "language_info": {
   "codemirror_mode": {
    "name": "ipython",
    "version": 3
   },
   "file_extension": ".py",
   "mimetype": "text/x-python",
   "name": "python",
   "nbconvert_exporter": "python",
   "pygments_lexer": "ipython3",
   "version": "3.12.3"
  }
 },
 "nbformat": 4,
 "nbformat_minor": 4
}
